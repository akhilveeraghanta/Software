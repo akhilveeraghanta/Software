{
 "cells": [
  {
   "cell_type": "markdown",
   "metadata": {},
   "source": [
    "# Pass Generator Exploration"
   ]
  },
  {
   "cell_type": "markdown",
   "metadata": {},
   "source": [
    "### Some random notes:\n",
    "- SGD is incredibly sensitive to step size/learning rate\n",
    "- ADAM is the way to go for online models\n",
    "- "
   ]
  },
  {
   "cell_type": "markdown",
   "metadata": {},
   "source": [
    "Instead of dealing with python bindings into our pass generator, optimization library, and cost functions, its easier to implement it quickly in python to charecterize its behvaviour.\n",
    "\n",
    "Things we would like to visualize:\n",
    "- cost functions"
   ]
  },
  {
   "cell_type": "code",
   "execution_count": 75,
   "metadata": {},
   "outputs": [],
   "source": [
    "from software.proto.sensor_msg_pb2 import SensorProto\n",
    "import numpy as np\n",
    "import matplotlib.pyplot as plt\n",
    "import os\n",
    "from python_tools.proto_log import ProtoLog\n",
    "from python_tools.sensor_proto_log import SensorProtoLog\n",
    "from shared.proto.tbots_software_msgs_pb2 import PrimitiveSet, Vision\n",
    "import plotly\n",
    "import plotly.graph_objects as go\n",
    "from plotly.subplots import make_subplots\n",
    "import matplotlib.pyplot as plt\n",
    "\n"
   ]
  },
  {
   "cell_type": "code",
   "execution_count": 60,
   "metadata": {},
   "outputs": [],
   "source": [
    "class Optimizer(object):\n",
    "    def minimize():\n",
    "        raise NotImplementedError(\"minimize not implemented\")\n",
    "    def approximate_gradient():\n",
    "        raise NotImplementedError(\"approximate_gradient not implemented\")"
   ]
  },
  {
   "cell_type": "code",
   "execution_count": 122,
   "metadata": {},
   "outputs": [],
   "source": [
    "import numpy as np\n",
    "import types\n",
    "\n",
    "class ADAM(Optimizer):\n",
    "    \"\"\"Implemented based on page 2 here: https://arxiv.org/pdf/1412.6980.pdf\n",
    "    \"\"\"\n",
    "    PAST_GRADIENT_DECAY_RATE = 0.9\n",
    "    PAST_SQUARED_GRADIENT_DECAY_RATE = 0.999\n",
    "    GRADIENT_APPROX_STEP_SIZE = 0.00001\n",
    "    EPS = 1e-8\n",
    "    \n",
    "    def __init__(self, step_size: float, weights: np.array):\n",
    "        self.step_size = step_size\n",
    "        self.weights = weights\n",
    "    \n",
    "    def minimize(self, params: np.array, objective_function: types.FunctionType) -> np.array:\n",
    "        past_gradient_averages = np.zeros(params.size)\n",
    "        past_squared_gradient_averages = np.zeros(params.size)\n",
    "        temp = params.copy()\n",
    "        history = []\n",
    "        \n",
    "        for x in range(1, 100):\n",
    "            gradient = self.approximate_gradient(temp, objective_function)\n",
    "            squared_gradient = np.square(gradient)\n",
    "\n",
    "            past_gradient_averages =\\\n",
    "                ADAM.PAST_GRADIENT_DECAY_RATE * past_gradient_averages +\\\n",
    "                                (1.0-ADAM.PAST_GRADIENT_DECAY_RATE) * gradient;\n",
    "            past_squared_gradient_averages =\\\n",
    "                ADAM.PAST_SQUARED_GRADIENT_DECAY_RATE * past_squared_gradient_averages +\\\n",
    "                                (1.0-ADAM.PAST_SQUARED_GRADIENT_DECAY_RATE) * squared_gradient;\n",
    "            \n",
    "            bias_corrected_past_gradient_averages =\\\n",
    "                past_gradient_averages/(1.0-ADAM.PAST_GRADIENT_DECAY_RATE**x)\n",
    "            bias_corrected_past_squared_gradient_averages =\\\n",
    "                past_squared_gradient_averages/(1.0-ADAM.PAST_SQUARED_GRADIENT_DECAY_RATE**x)\n",
    "            \n",
    "            history.append(temp)\n",
    "            \n",
    "            temp = temp - self.step_size * (\n",
    "                bias_corrected_past_gradient_averages/(\n",
    "                np.sqrt(bias_corrected_past_squared_gradient_averages) + ADAM.EPS)\n",
    "            )\n",
    "        return temp, history\n",
    "            \n",
    "        \n",
    "    def approximate_gradient(self, params: np.array, objective_function: types.FunctionType):\n",
    "        current_value = objective_function(params)\n",
    "        next_params = params + (self.step_size * self.weights)\n",
    "        next_value = objective_function(next_params)\n",
    "        return (next_value - current_value)/self.step_size"
   ]
  },
  {
   "cell_type": "code",
   "execution_count": 138,
   "metadata": {
    "scrolled": true
   },
   "outputs": [
    {
     "data": {
      "image/png": "[encoded data removed]",
      "text/plain": [
       "<Figure size 432x288 with 1 Axes>"
      ]
     },
     "metadata": {
      "needs_background": "light"
     },
     "output_type": "display_data"
    }
   ],
   "source": [
    "# Sanity Check\n",
    "\n",
    "objective_function = lambda x: x**2\n",
    "optimizer = ADAM(step_size=0.5, weights=np.array([1]))\n",
    "result, history = optimizer.minimize(np.array([5]), objective_function)\n",
    "\n",
    "x = np.linspace(-5,5,20)\n",
    "y = [objective_function(a) for a in x]\n",
    "plt.figure()\n",
    "plt.scatter(history, [objective_function(a) for a in history], color='red')\n",
    "plt.plot(history, [objective_function(a) for a in history], color='red')\n",
    "plt.plot(x,y)\n",
    "plt.show()"
   ]
  },
  {
   "cell_type": "code",
   "execution_count": 2,
   "metadata": {},
   "outputs": [],
   "source": [
    "# The following functions are implemented exactly\n",
    "# how they are implemented in software/ai/passing/cost_function.cpp\n",
    "# TODO: python bindings to avoid duplication?\n",
    "\n",
    "import sys\n",
    "sys.path.append(\"/home/akhil/.cache/bazel/_bazel_akhil/7c62ef8c97a53afa53e3884314b45b1e/execroot/__main__/bazel-out/k8-fastbuild/bin/python_tools/jupyter.runfiles/__main__/python_tools\")\n",
    "import cost_function_python_wrapper\n",
    "\n",
    "def ratePassShootScore():\n",
    "    pass"
   ]
  },
  {
   "cell_type": "code",
   "execution_count": 11,
   "metadata": {},
   "outputs": [
    {
     "data": {
      "application/vnd.plotly.v1+json": {
       "config": {
        "plotlyServerURL": "https://plot.ly"
       },
       "data": [
        {
         "colorscale": [
          [
           0,
           "#440154"
          ],
          [
           0.1111111111111111,
           "#482878"
          ],
          [
           0.2222222222222222,
           "#3e4989"
          ],
          [
           0.3333333333333333,
           "#31688e"
          ],
          [
           0.4444444444444444,
           "#26828e"
          ],
          [
           0.5555555555555556,
           "#1f9e89"
          ],
          [
           0.6666666666666666,
           "#35b779"
          ],
          [
           0.7777777777777778,
           "#6ece58"
          ],
          [
           0.8888888888888888,
           "#b5de2b"
          ],
          [
           1,
           "#fde725"
          ]
         ],
         "scene": "scene",
         "showscale": false,
         "type": "surface",
         "x": [
          -5,
          4.444444444444445,
          13.88888888888889,
          23.333333333333336,
          32.77777777777778,
          42.22222222222222,
          51.66666666666667,
          61.111111111111114,
          70.55555555555556,
          80
         ],
         "y": [
          -5,
          2.2222222222222223,
          9.444444444444445,
          16.666666666666668,
          23.88888888888889,
          31.111111111111114,
          38.333333333333336,
          45.55555555555556,
          52.77777777777778,
          60
         ],
         "z": [
          [
           -250,
           -114.02606310013718,
           717.4211248285322,
           4504.6296296296305,
           13507.887517146777,
           29987.482853223602,
           56203.703703703715,
           94416.83813443074,
           146887.1742112483,
           215875
          ],
          [
           -37.20850480109738,
           98.76543209876544,
           930.2126200274349,
           4717.421124828533,
           13720.67901234568,
           30200.274348422507,
           56416.495198902616,
           94629.62962962965,
           147099.9657064472,
           216087.7914951989
          ],
          [
           2554.1838134430727,
           2690.1577503429357,
           3521.604938271605,
           7308.813443072703,
           16312.07133058985,
           32791.66666666667,
           59007.88751714679,
           97221.02194787381,
           149691.35802469135,
           218679.18381344306
          ],
          [
           12578.703703703708,
           12714.677640603571,
           13546.12482853224,
           17333.33333333334,
           26336.591220850485,
           42816.18655692731,
           69032.40740740742,
           107245.54183813445,
           159715.877914952,
           228703.7037037037
          ],
          [
           35090.87791495199,
           35226.851851851854,
           36058.299039780526,
           39845.50754458162,
           48848.765432098764,
           65328.3607681756,
           91544.5816186557,
           129757.71604938273,
           182228.0521262003,
           251215.877914952
          ],
          [
           75145.23319615911,
           75281.20713305897,
           76112.65432098764,
           79899.86282578875,
           88903.12071330589,
           105382.71604938271,
           131598.93689986283,
           169812.07133058985,
           222282.40740740742,
           291270.2331961591
          ],
          [
           137796.29629629632,
           137932.27023319618,
           138763.71742112486,
           142550.92592592596,
           151554.1838134431,
           168033.77914951992,
           194250.00000000003,
           232463.13443072705,
           284933.4705075446,
           353921.2962962963
          ],
          [
           228098.59396433475,
           228234.5679012346,
           229066.0150891633,
           232853.2235939644,
           241856.48148148152,
           258336.07681755835,
           284552.29766803846,
           322765.4320987655,
           375235.76817558304,
           444223.59396433475
          ],
          [
           351106.6529492456,
           351242.62688614544,
           352074.0740740741,
           355861.2825788752,
           364864.54046639235,
           381344.1358024692,
           407560.3566529493,
           445773.49108367634,
           498243.8271604939,
           567231.6529492456
          ],
          [
           511875,
           512010.97393689986,
           512842.4211248285,
           516629.6296296296,
           525632.8875171468,
           542112.4828532236,
           568328.7037037037,
           606541.8381344307,
           659012.1742112483,
           728000
          ]
         ]
        },
        {
         "colorscale": [
          [
           0,
           "rgb(103,0,31)"
          ],
          [
           0.1,
           "rgb(178,24,43)"
          ],
          [
           0.2,
           "rgb(214,96,77)"
          ],
          [
           0.3,
           "rgb(244,165,130)"
          ],
          [
           0.4,
           "rgb(253,219,199)"
          ],
          [
           0.5,
           "rgb(247,247,247)"
          ],
          [
           0.6,
           "rgb(209,229,240)"
          ],
          [
           0.7,
           "rgb(146,197,222)"
          ],
          [
           0.8,
           "rgb(67,147,195)"
          ],
          [
           0.9,
           "rgb(33,102,172)"
          ],
          [
           1,
           "rgb(5,48,97)"
          ]
         ],
         "scene": "scene2",
         "showscale": false,
         "type": "surface",
         "x": [
          -5,
          4.444444444444445,
          13.88888888888889,
          23.333333333333336,
          32.77777777777778,
          42.22222222222222,
          51.66666666666667,
          61.111111111111114,
          70.55555555555556,
          80
         ],
         "y": [
          -5,
          2.2222222222222223,
          9.444444444444445,
          16.666666666666668,
          23.88888888888889,
          31.111111111111114,
          38.333333333333336,
          45.55555555555556,
          52.77777777777778,
          60
         ],
         "z": [
          [
           -250,
           -114.02606310013718,
           717.4211248285322,
           4504.6296296296305,
           13507.887517146777,
           29987.482853223602,
           56203.703703703715,
           94416.83813443074,
           146887.1742112483,
           215875
          ],
          [
           -37.20850480109738,
           98.76543209876544,
           930.2126200274349,
           4717.421124828533,
           13720.67901234568,
           30200.274348422507,
           56416.495198902616,
           94629.62962962965,
           147099.9657064472,
           216087.7914951989
          ],
          [
           2554.1838134430727,
           2690.1577503429357,
           3521.604938271605,
           7308.813443072703,
           16312.07133058985,
           32791.66666666667,
           59007.88751714679,
           97221.02194787381,
           149691.35802469135,
           218679.18381344306
          ],
          [
           12578.703703703708,
           12714.677640603571,
           13546.12482853224,
           17333.33333333334,
           26336.591220850485,
           42816.18655692731,
           69032.40740740742,
           107245.54183813445,
           159715.877914952,
           228703.7037037037
          ],
          [
           35090.87791495199,
           35226.851851851854,
           36058.299039780526,
           39845.50754458162,
           48848.765432098764,
           65328.3607681756,
           91544.5816186557,
           129757.71604938273,
           182228.0521262003,
           251215.877914952
          ],
          [
           75145.23319615911,
           75281.20713305897,
           76112.65432098764,
           79899.86282578875,
           88903.12071330589,
           105382.71604938271,
           131598.93689986283,
           169812.07133058985,
           222282.40740740742,
           291270.2331961591
          ],
          [
           137796.29629629632,
           137932.27023319618,
           138763.71742112486,
           142550.92592592596,
           151554.1838134431,
           168033.77914951992,
           194250.00000000003,
           232463.13443072705,
           284933.4705075446,
           353921.2962962963
          ],
          [
           228098.59396433475,
           228234.5679012346,
           229066.0150891633,
           232853.2235939644,
           241856.48148148152,
           258336.07681755835,
           284552.29766803846,
           322765.4320987655,
           375235.76817558304,
           444223.59396433475
          ],
          [
           351106.6529492456,
           351242.62688614544,
           352074.0740740741,
           355861.2825788752,
           364864.54046639235,
           381344.1358024692,
           407560.3566529493,
           445773.49108367634,
           498243.8271604939,
           567231.6529492456
          ],
          [
           511875,
           512010.97393689986,
           512842.4211248285,
           516629.6296296296,
           525632.8875171468,
           542112.4828532236,
           568328.7037037037,
           606541.8381344307,
           659012.1742112483,
           728000
          ]
         ]
        },
        {
         "colorscale": [
          [
           0,
           "rgb(255,255,204)"
          ],
          [
           0.125,
           "rgb(255,237,160)"
          ],
          [
           0.25,
           "rgb(254,217,118)"
          ],
          [
           0.375,
           "rgb(254,178,76)"
          ],
          [
           0.5,
           "rgb(253,141,60)"
          ],
          [
           0.625,
           "rgb(252,78,42)"
          ],
          [
           0.75,
           "rgb(227,26,28)"
          ],
          [
           0.875,
           "rgb(189,0,38)"
          ],
          [
           1,
           "rgb(128,0,38)"
          ]
         ],
         "scene": "scene3",
         "showscale": false,
         "type": "surface",
         "x": [
          -5,
          4.444444444444445,
          13.88888888888889,
          23.333333333333336,
          32.77777777777778,
          42.22222222222222,
          51.66666666666667,
          61.111111111111114,
          70.55555555555556,
          80
         ],
         "y": [
          -5,
          2.2222222222222223,
          9.444444444444445,
          16.666666666666668,
          23.88888888888889,
          31.111111111111114,
          38.333333333333336,
          45.55555555555556,
          52.77777777777778,
          60
         ],
         "z": [
          [
           -250,
           -114.02606310013718,
           717.4211248285322,
           4504.6296296296305,
           13507.887517146777,
           29987.482853223602,
           56203.703703703715,
           94416.83813443074,
           146887.1742112483,
           215875
          ],
          [
           -37.20850480109738,
           98.76543209876544,
           930.2126200274349,
           4717.421124828533,
           13720.67901234568,
           30200.274348422507,
           56416.495198902616,
           94629.62962962965,
           147099.9657064472,
           216087.7914951989
          ],
          [
           2554.1838134430727,
           2690.1577503429357,
           3521.604938271605,
           7308.813443072703,
           16312.07133058985,
           32791.66666666667,
           59007.88751714679,
           97221.02194787381,
           149691.35802469135,
           218679.18381344306
          ],
          [
           12578.703703703708,
           12714.677640603571,
           13546.12482853224,
           17333.33333333334,
           26336.591220850485,
           42816.18655692731,
           69032.40740740742,
           107245.54183813445,
           159715.877914952,
           228703.7037037037
          ],
          [
           35090.87791495199,
           35226.851851851854,
           36058.299039780526,
           39845.50754458162,
           48848.765432098764,
           65328.3607681756,
           91544.5816186557,
           129757.71604938273,
           182228.0521262003,
           251215.877914952
          ],
          [
           75145.23319615911,
           75281.20713305897,
           76112.65432098764,
           79899.86282578875,
           88903.12071330589,
           105382.71604938271,
           131598.93689986283,
           169812.07133058985,
           222282.40740740742,
           291270.2331961591
          ],
          [
           137796.29629629632,
           137932.27023319618,
           138763.71742112486,
           142550.92592592596,
           151554.1838134431,
           168033.77914951992,
           194250.00000000003,
           232463.13443072705,
           284933.4705075446,
           353921.2962962963
          ],
          [
           228098.59396433475,
           228234.5679012346,
           229066.0150891633,
           232853.2235939644,
           241856.48148148152,
           258336.07681755835,
           284552.29766803846,
           322765.4320987655,
           375235.76817558304,
           444223.59396433475
          ],
          [
           351106.6529492456,
           351242.62688614544,
           352074.0740740741,
           355861.2825788752,
           364864.54046639235,
           381344.1358024692,
           407560.3566529493,
           445773.49108367634,
           498243.8271604939,
           567231.6529492456
          ],
          [
           511875,
           512010.97393689986,
           512842.4211248285,
           516629.6296296296,
           525632.8875171468,
           542112.4828532236,
           568328.7037037037,
           606541.8381344307,
           659012.1742112483,
           728000
          ]
         ]
        },
        {
         "colorscale": [
          [
           0,
           "rgb(255,255,217)"
          ],
          [
           0.125,
           "rgb(237,248,177)"
          ],
          [
           0.25,
           "rgb(199,233,180)"
          ],
          [
           0.375,
           "rgb(127,205,187)"
          ],
          [
           0.5,
           "rgb(65,182,196)"
          ],
          [
           0.625,
           "rgb(29,145,192)"
          ],
          [
           0.75,
           "rgb(34,94,168)"
          ],
          [
           0.875,
           "rgb(37,52,148)"
          ],
          [
           1,
           "rgb(8,29,88)"
          ]
         ],
         "scene": "scene4",
         "showscale": false,
         "type": "surface",
         "x": [
          -5,
          4.444444444444445,
          13.88888888888889,
          23.333333333333336,
          32.77777777777778,
          42.22222222222222,
          51.66666666666667,
          61.111111111111114,
          70.55555555555556,
          80
         ],
         "y": [
          -5,
          2.2222222222222223,
          9.444444444444445,
          16.666666666666668,
          23.88888888888889,
          31.111111111111114,
          38.333333333333336,
          45.55555555555556,
          52.77777777777778,
          60
         ],
         "z": [
          [
           -250,
           -114.02606310013718,
           717.4211248285322,
           4504.6296296296305,
           13507.887517146777,
           29987.482853223602,
           56203.703703703715,
           94416.83813443074,
           146887.1742112483,
           215875
          ],
          [
           -37.20850480109738,
           98.76543209876544,
           930.2126200274349,
           4717.421124828533,
           13720.67901234568,
           30200.274348422507,
           56416.495198902616,
           94629.62962962965,
           147099.9657064472,
           216087.7914951989
          ],
          [
           2554.1838134430727,
           2690.1577503429357,
           3521.604938271605,
           7308.813443072703,
           16312.07133058985,
           32791.66666666667,
           59007.88751714679,
           97221.02194787381,
           149691.35802469135,
           218679.18381344306
          ],
          [
           12578.703703703708,
           12714.677640603571,
           13546.12482853224,
           17333.33333333334,
           26336.591220850485,
           42816.18655692731,
           69032.40740740742,
           107245.54183813445,
           159715.877914952,
           228703.7037037037
          ],
          [
           35090.87791495199,
           35226.851851851854,
           36058.299039780526,
           39845.50754458162,
           48848.765432098764,
           65328.3607681756,
           91544.5816186557,
           129757.71604938273,
           182228.0521262003,
           251215.877914952
          ],
          [
           75145.23319615911,
           75281.20713305897,
           76112.65432098764,
           79899.86282578875,
           88903.12071330589,
           105382.71604938271,
           131598.93689986283,
           169812.07133058985,
           222282.40740740742,
           291270.2331961591
          ],
          [
           137796.29629629632,
           137932.27023319618,
           138763.71742112486,
           142550.92592592596,
           151554.1838134431,
           168033.77914951992,
           194250.00000000003,
           232463.13443072705,
           284933.4705075446,
           353921.2962962963
          ],
          [
           228098.59396433475,
           228234.5679012346,
           229066.0150891633,
           232853.2235939644,
           241856.48148148152,
           258336.07681755835,
           284552.29766803846,
           322765.4320987655,
           375235.76817558304,
           444223.59396433475
          ],
          [
           351106.6529492456,
           351242.62688614544,
           352074.0740740741,
           355861.2825788752,
           364864.54046639235,
           381344.1358024692,
           407560.3566529493,
           445773.49108367634,
           498243.8271604939,
           567231.6529492456
          ],
          [
           511875,
           512010.97393689986,
           512842.4211248285,
           516629.6296296296,
           525632.8875171468,
           542112.4828532236,
           568328.7037037037,
           606541.8381344307,
           659012.1742112483,
           728000
          ]
         ]
        }
       ],
       "layout": {
        "height": 800,
        "scene": {
         "domain": {
          "x": [
           0,
           0.45
          ],
          "y": [
           0.575,
           1
          ]
         }
        },
        "scene2": {
         "domain": {
          "x": [
           0.55,
           1
          ],
          "y": [
           0.575,
           1
          ]
         }
        },
        "scene3": {
         "domain": {
          "x": [
           0,
           0.45
          ],
          "y": [
           0,
           0.425
          ]
         }
        },
        "scene4": {
         "domain": {
          "x": [
           0.55,
           1
          ],
          "y": [
           0,
           0.425
          ]
         }
        },
        "template": {
         "data": {
          "bar": [
           {
            "error_x": {
             "color": "#2a3f5f"
            },
            "error_y": {
             "color": "#2a3f5f"
            },
            "marker": {
             "line": {
              "color": "#E5ECF6",
              "width": 0.5
             }
            },
            "type": "bar"
           }
          ],
          "barpolar": [
           {
            "marker": {
             "line": {
              "color": "#E5ECF6",
              "width": 0.5
             }
            },
            "type": "barpolar"
           }
          ],
          "carpet": [
           {
            "aaxis": {
             "endlinecolor": "#2a3f5f",
             "gridcolor": "white",
             "linecolor": "white",
             "minorgridcolor": "white",
             "startlinecolor": "#2a3f5f"
            },
            "baxis": {
             "endlinecolor": "#2a3f5f",
             "gridcolor": "white",
             "linecolor": "white",
             "minorgridcolor": "white",
             "startlinecolor": "#2a3f5f"
            },
            "type": "carpet"
           }
          ],
          "choropleth": [
           {
            "colorbar": {
             "outlinewidth": 0,
             "ticks": ""
            },
            "type": "choropleth"
           }
          ],
          "contour": [
           {
            "colorbar": {
             "outlinewidth": 0,
             "ticks": ""
            },
            "colorscale": [
             [
              0,
              "#0d0887"
             ],
             [
              0.1111111111111111,
              "#46039f"
             ],
             [
              0.2222222222222222,
              "#7201a8"
             ],
             [
              0.3333333333333333,
              "#9c179e"
             ],
             [
              0.4444444444444444,
              "#bd3786"
             ],
             [
              0.5555555555555556,
              "#d8576b"
             ],
             [
              0.6666666666666666,
              "#ed7953"
             ],
             [
              0.7777777777777778,
              "#fb9f3a"
             ],
             [
              0.8888888888888888,
              "#fdca26"
             ],
             [
              1,
              "#f0f921"
             ]
            ],
            "type": "contour"
           }
          ],
          "contourcarpet": [
           {
            "colorbar": {
             "outlinewidth": 0,
             "ticks": ""
            },
            "type": "contourcarpet"
           }
          ],
          "heatmap": [
           {
            "colorbar": {
             "outlinewidth": 0,
             "ticks": ""
            },
            "colorscale": [
             [
              0,
              "#0d0887"
             ],
             [
              0.1111111111111111,
              "#46039f"
             ],
             [
              0.2222222222222222,
              "#7201a8"
             ],
             [
              0.3333333333333333,
              "#9c179e"
             ],
             [
              0.4444444444444444,
              "#bd3786"
             ],
             [
              0.5555555555555556,
              "#d8576b"
             ],
             [
              0.6666666666666666,
              "#ed7953"
             ],
             [
              0.7777777777777778,
              "#fb9f3a"
             ],
             [
              0.8888888888888888,
              "#fdca26"
             ],
             [
              1,
              "#f0f921"
             ]
            ],
            "type": "heatmap"
           }
          ],
          "heatmapgl": [
           {
            "colorbar": {
             "outlinewidth": 0,
             "ticks": ""
            },
            "colorscale": [
             [
              0,
              "#0d0887"
             ],
             [
              0.1111111111111111,
              "#46039f"
             ],
             [
              0.2222222222222222,
              "#7201a8"
             ],
             [
              0.3333333333333333,
              "#9c179e"
             ],
             [
              0.4444444444444444,
              "#bd3786"
             ],
             [
              0.5555555555555556,
              "#d8576b"
             ],
             [
              0.6666666666666666,
              "#ed7953"
             ],
             [
              0.7777777777777778,
              "#fb9f3a"
             ],
             [
              0.8888888888888888,
              "#fdca26"
             ],
             [
              1,
              "#f0f921"
             ]
            ],
            "type": "heatmapgl"
           }
          ],
          "histogram": [
           {
            "marker": {
             "colorbar": {
              "outlinewidth": 0,
              "ticks": ""
             }
            },
            "type": "histogram"
           }
          ],
          "histogram2d": [
           {
            "colorbar": {
             "outlinewidth": 0,
             "ticks": ""
            },
            "colorscale": [
             [
              0,
              "#0d0887"
             ],
             [
              0.1111111111111111,
              "#46039f"
             ],
             [
              0.2222222222222222,
              "#7201a8"
             ],
             [
              0.3333333333333333,
              "#9c179e"
             ],
             [
              0.4444444444444444,
              "#bd3786"
             ],
             [
              0.5555555555555556,
              "#d8576b"
             ],
             [
              0.6666666666666666,
              "#ed7953"
             ],
             [
              0.7777777777777778,
              "#fb9f3a"
             ],
             [
              0.8888888888888888,
              "#fdca26"
             ],
             [
              1,
              "#f0f921"
             ]
            ],
            "type": "histogram2d"
           }
          ],
          "histogram2dcontour": [
           {
            "colorbar": {
             "outlinewidth": 0,
             "ticks": ""
            },
            "colorscale": [
             [
              0,
              "#0d0887"
             ],
             [
              0.1111111111111111,
              "#46039f"
             ],
             [
              0.2222222222222222,
              "#7201a8"
             ],
             [
              0.3333333333333333,
              "#9c179e"
             ],
             [
              0.4444444444444444,
              "#bd3786"
             ],
             [
              0.5555555555555556,
              "#d8576b"
             ],
             [
              0.6666666666666666,
              "#ed7953"
             ],
             [
              0.7777777777777778,
              "#fb9f3a"
             ],
             [
              0.8888888888888888,
              "#fdca26"
             ],
             [
              1,
              "#f0f921"
             ]
            ],
            "type": "histogram2dcontour"
           }
          ],
          "mesh3d": [
           {
            "colorbar": {
             "outlinewidth": 0,
             "ticks": ""
            },
            "type": "mesh3d"
           }
          ],
          "parcoords": [
           {
            "line": {
             "colorbar": {
              "outlinewidth": 0,
              "ticks": ""
             }
            },
            "type": "parcoords"
           }
          ],
          "pie": [
           {
            "automargin": true,
            "type": "pie"
           }
          ],
          "scatter": [
           {
            "marker": {
             "colorbar": {
              "outlinewidth": 0,
              "ticks": ""
             }
            },
            "type": "scatter"
           }
          ],
          "scatter3d": [
           {
            "line": {
             "colorbar": {
              "outlinewidth": 0,
              "ticks": ""
             }
            },
            "marker": {
             "colorbar": {
              "outlinewidth": 0,
              "ticks": ""
             }
            },
            "type": "scatter3d"
           }
          ],
          "scattercarpet": [
           {
            "marker": {
             "colorbar": {
              "outlinewidth": 0,
              "ticks": ""
             }
            },
            "type": "scattercarpet"
           }
          ],
          "scattergeo": [
           {
            "marker": {
             "colorbar": {
              "outlinewidth": 0,
              "ticks": ""
             }
            },
            "type": "scattergeo"
           }
          ],
          "scattergl": [
           {
            "marker": {
             "colorbar": {
              "outlinewidth": 0,
              "ticks": ""
             }
            },
            "type": "scattergl"
           }
          ],
          "scattermapbox": [
           {
            "marker": {
             "colorbar": {
              "outlinewidth": 0,
              "ticks": ""
             }
            },
            "type": "scattermapbox"
           }
          ],
          "scatterpolar": [
           {
            "marker": {
             "colorbar": {
              "outlinewidth": 0,
              "ticks": ""
             }
            },
            "type": "scatterpolar"
           }
          ],
          "scatterpolargl": [
           {
            "marker": {
             "colorbar": {
              "outlinewidth": 0,
              "ticks": ""
             }
            },
            "type": "scatterpolargl"
           }
          ],
          "scatterternary": [
           {
            "marker": {
             "colorbar": {
              "outlinewidth": 0,
              "ticks": ""
             }
            },
            "type": "scatterternary"
           }
          ],
          "surface": [
           {
            "colorbar": {
             "outlinewidth": 0,
             "ticks": ""
            },
            "colorscale": [
             [
              0,
              "#0d0887"
             ],
             [
              0.1111111111111111,
              "#46039f"
             ],
             [
              0.2222222222222222,
              "#7201a8"
             ],
             [
              0.3333333333333333,
              "#9c179e"
             ],
             [
              0.4444444444444444,
              "#bd3786"
             ],
             [
              0.5555555555555556,
              "#d8576b"
             ],
             [
              0.6666666666666666,
              "#ed7953"
             ],
             [
              0.7777777777777778,
              "#fb9f3a"
             ],
             [
              0.8888888888888888,
              "#fdca26"
             ],
             [
              1,
              "#f0f921"
             ]
            ],
            "type": "surface"
           }
          ],
          "table": [
           {
            "cells": {
             "fill": {
              "color": "#EBF0F8"
             },
             "line": {
              "color": "white"
             }
            },
            "header": {
             "fill": {
              "color": "#C8D4E3"
             },
             "line": {
              "color": "white"
             }
            },
            "type": "table"
           }
          ]
         },
         "layout": {
          "annotationdefaults": {
           "arrowcolor": "#2a3f5f",
           "arrowhead": 0,
           "arrowwidth": 1
          },
          "autotypenumbers": "strict",
          "coloraxis": {
           "colorbar": {
            "outlinewidth": 0,
            "ticks": ""
           }
          },
          "colorscale": {
           "diverging": [
            [
             0,
             "#8e0152"
            ],
            [
             0.1,
             "#c51b7d"
            ],
            [
             0.2,
             "#de77ae"
            ],
            [
             0.3,
             "#f1b6da"
            ],
            [
             0.4,
             "#fde0ef"
            ],
            [
             0.5,
             "#f7f7f7"
            ],
            [
             0.6,
             "#e6f5d0"
            ],
            [
             0.7,
             "#b8e186"
            ],
            [
             0.8,
             "#7fbc41"
            ],
            [
             0.9,
             "#4d9221"
            ],
            [
             1,
             "#276419"
            ]
           ],
           "sequential": [
            [
             0,
             "#0d0887"
            ],
            [
             0.1111111111111111,
             "#46039f"
            ],
            [
             0.2222222222222222,
             "#7201a8"
            ],
            [
             0.3333333333333333,
             "#9c179e"
            ],
            [
             0.4444444444444444,
             "#bd3786"
            ],
            [
             0.5555555555555556,
             "#d8576b"
            ],
            [
             0.6666666666666666,
             "#ed7953"
            ],
            [
             0.7777777777777778,
             "#fb9f3a"
            ],
            [
             0.8888888888888888,
             "#fdca26"
            ],
            [
             1,
             "#f0f921"
            ]
           ],
           "sequentialminus": [
            [
             0,
             "#0d0887"
            ],
            [
             0.1111111111111111,
             "#46039f"
            ],
            [
             0.2222222222222222,
             "#7201a8"
            ],
            [
             0.3333333333333333,
             "#9c179e"
            ],
            [
             0.4444444444444444,
             "#bd3786"
            ],
            [
             0.5555555555555556,
             "#d8576b"
            ],
            [
             0.6666666666666666,
             "#ed7953"
            ],
            [
             0.7777777777777778,
             "#fb9f3a"
            ],
            [
             0.8888888888888888,
             "#fdca26"
            ],
            [
             1,
             "#f0f921"
            ]
           ]
          },
          "colorway": [
           "#636efa",
           "#EF553B",
           "#00cc96",
           "#ab63fa",
           "#FFA15A",
           "#19d3f3",
           "#FF6692",
           "#B6E880",
           "#FF97FF",
           "#FECB52"
          ],
          "font": {
           "color": "#2a3f5f"
          },
          "geo": {
           "bgcolor": "white",
           "lakecolor": "white",
           "landcolor": "#E5ECF6",
           "showlakes": true,
           "showland": true,
           "subunitcolor": "white"
          },
          "hoverlabel": {
           "align": "left"
          },
          "hovermode": "closest",
          "mapbox": {
           "style": "light"
          },
          "paper_bgcolor": "white",
          "plot_bgcolor": "#E5ECF6",
          "polar": {
           "angularaxis": {
            "gridcolor": "white",
            "linecolor": "white",
            "ticks": ""
           },
           "bgcolor": "#E5ECF6",
           "radialaxis": {
            "gridcolor": "white",
            "linecolor": "white",
            "ticks": ""
           }
          },
          "scene": {
           "xaxis": {
            "backgroundcolor": "#E5ECF6",
            "gridcolor": "white",
            "gridwidth": 2,
            "linecolor": "white",
            "showbackground": true,
            "ticks": "",
            "zerolinecolor": "white"
           },
           "yaxis": {
            "backgroundcolor": "#E5ECF6",
            "gridcolor": "white",
            "gridwidth": 2,
            "linecolor": "white",
            "showbackground": true,
            "ticks": "",
            "zerolinecolor": "white"
           },
           "zaxis": {
            "backgroundcolor": "#E5ECF6",
            "gridcolor": "white",
            "gridwidth": 2,
            "linecolor": "white",
            "showbackground": true,
            "ticks": "",
            "zerolinecolor": "white"
           }
          },
          "shapedefaults": {
           "line": {
            "color": "#2a3f5f"
           }
          },
          "ternary": {
           "aaxis": {
            "gridcolor": "white",
            "linecolor": "white",
            "ticks": ""
           },
           "baxis": {
            "gridcolor": "white",
            "linecolor": "white",
            "ticks": ""
           },
           "bgcolor": "#E5ECF6",
           "caxis": {
            "gridcolor": "white",
            "linecolor": "white",
            "ticks": ""
           }
          },
          "title": {
           "x": 0.05
          },
          "xaxis": {
           "automargin": true,
           "gridcolor": "white",
           "linecolor": "white",
           "ticks": "",
           "title": {
            "standoff": 15
           },
           "zerolinecolor": "white",
           "zerolinewidth": 2
          },
          "yaxis": {
           "automargin": true,
           "gridcolor": "white",
           "linecolor": "white",
           "ticks": "",
           "title": {
            "standoff": 15
           },
           "zerolinecolor": "white",
           "zerolinewidth": 2
          }
         }
        },
        "title": {
         "text": "3D subplots with different colorscales"
        },
        "width": 800
       }
      },
      "text/html": [
       "<div>                            <div id=\"47160a00-20d8-4ff2-b703-a23bd2683653\" class=\"plotly-graph-div\" style=\"height:800px; width:800px;\"></div>            <script type=\"text/javascript\">                require([\"plotly\"], function(Plotly) {                    window.PLOTLYENV=window.PLOTLYENV || {};                                    if (document.getElementById(\"47160a00-20d8-4ff2-b703-a23bd2683653\")) {                    Plotly.newPlot(                        \"47160a00-20d8-4ff2-b703-a23bd2683653\",                        [{\"colorscale\": [[0.0, \"#440154\"], [0.1111111111111111, \"#482878\"], [0.2222222222222222, \"#3e4989\"], [0.3333333333333333, \"#31688e\"], [0.4444444444444444, \"#26828e\"], [0.5555555555555556, \"#1f9e89\"], [0.6666666666666666, \"#35b779\"], [0.7777777777777778, \"#6ece58\"], [0.8888888888888888, \"#b5de2b\"], [1.0, \"#fde725\"]], \"scene\": \"scene\", \"showscale\": false, \"type\": \"surface\", \"x\": [-5.0, 4.444444444444445, 13.88888888888889, 23.333333333333336, 32.77777777777778, 42.22222222222222, 51.66666666666667, 61.111111111111114, 70.55555555555556, 80.0], \"y\": [-5.0, 2.2222222222222223, 9.444444444444445, 16.666666666666668, 23.88888888888889, 31.111111111111114, 38.333333333333336, 45.55555555555556, 52.77777777777778, 60.0], \"z\": [[-250.0, -114.02606310013718, 717.4211248285322, 4504.6296296296305, 13507.887517146777, 29987.482853223602, 56203.703703703715, 94416.83813443074, 146887.1742112483, 215875.0], [-37.20850480109738, 98.76543209876544, 930.2126200274349, 4717.421124828533, 13720.67901234568, 30200.274348422507, 56416.495198902616, 94629.62962962965, 147099.9657064472, 216087.7914951989], [2554.1838134430727, 2690.1577503429357, 3521.604938271605, 7308.813443072703, 16312.07133058985, 32791.66666666667, 59007.88751714679, 97221.02194787381, 149691.35802469135, 218679.18381344306], [12578.703703703708, 12714.677640603571, 13546.12482853224, 17333.33333333334, 26336.591220850485, 42816.18655692731, 69032.40740740742, 107245.54183813445, 159715.877914952, 228703.7037037037], [35090.87791495199, 35226.851851851854, 36058.299039780526, 39845.50754458162, 48848.765432098764, 65328.3607681756, 91544.5816186557, 129757.71604938273, 182228.0521262003, 251215.877914952], [75145.23319615911, 75281.20713305897, 76112.65432098764, 79899.86282578875, 88903.12071330589, 105382.71604938271, 131598.93689986283, 169812.07133058985, 222282.40740740742, 291270.2331961591], [137796.29629629632, 137932.27023319618, 138763.71742112486, 142550.92592592596, 151554.1838134431, 168033.77914951992, 194250.00000000003, 232463.13443072705, 284933.4705075446, 353921.2962962963], [228098.59396433475, 228234.5679012346, 229066.0150891633, 232853.2235939644, 241856.48148148152, 258336.07681755835, 284552.29766803846, 322765.4320987655, 375235.76817558304, 444223.59396433475], [351106.6529492456, 351242.62688614544, 352074.0740740741, 355861.2825788752, 364864.54046639235, 381344.1358024692, 407560.3566529493, 445773.49108367634, 498243.8271604939, 567231.6529492456], [511875.0, 512010.97393689986, 512842.4211248285, 516629.6296296296, 525632.8875171468, 542112.4828532236, 568328.7037037037, 606541.8381344307, 659012.1742112483, 728000.0]]}, {\"colorscale\": [[0.0, \"rgb(103,0,31)\"], [0.1, \"rgb(178,24,43)\"], [0.2, \"rgb(214,96,77)\"], [0.3, \"rgb(244,165,130)\"], [0.4, \"rgb(253,219,199)\"], [0.5, \"rgb(247,247,247)\"], [0.6, \"rgb(209,229,240)\"], [0.7, \"rgb(146,197,222)\"], [0.8, \"rgb(67,147,195)\"], [0.9, \"rgb(33,102,172)\"], [1.0, \"rgb(5,48,97)\"]], \"scene\": \"scene2\", \"showscale\": false, \"type\": \"surface\", \"x\": [-5.0, 4.444444444444445, 13.88888888888889, 23.333333333333336, 32.77777777777778, 42.22222222222222, 51.66666666666667, 61.111111111111114, 70.55555555555556, 80.0], \"y\": [-5.0, 2.2222222222222223, 9.444444444444445, 16.666666666666668, 23.88888888888889, 31.111111111111114, 38.333333333333336, 45.55555555555556, 52.77777777777778, 60.0], \"z\": [[-250.0, -114.02606310013718, 717.4211248285322, 4504.6296296296305, 13507.887517146777, 29987.482853223602, 56203.703703703715, 94416.83813443074, 146887.1742112483, 215875.0], [-37.20850480109738, 98.76543209876544, 930.2126200274349, 4717.421124828533, 13720.67901234568, 30200.274348422507, 56416.495198902616, 94629.62962962965, 147099.9657064472, 216087.7914951989], [2554.1838134430727, 2690.1577503429357, 3521.604938271605, 7308.813443072703, 16312.07133058985, 32791.66666666667, 59007.88751714679, 97221.02194787381, 149691.35802469135, 218679.18381344306], [12578.703703703708, 12714.677640603571, 13546.12482853224, 17333.33333333334, 26336.591220850485, 42816.18655692731, 69032.40740740742, 107245.54183813445, 159715.877914952, 228703.7037037037], [35090.87791495199, 35226.851851851854, 36058.299039780526, 39845.50754458162, 48848.765432098764, 65328.3607681756, 91544.5816186557, 129757.71604938273, 182228.0521262003, 251215.877914952], [75145.23319615911, 75281.20713305897, 76112.65432098764, 79899.86282578875, 88903.12071330589, 105382.71604938271, 131598.93689986283, 169812.07133058985, 222282.40740740742, 291270.2331961591], [137796.29629629632, 137932.27023319618, 138763.71742112486, 142550.92592592596, 151554.1838134431, 168033.77914951992, 194250.00000000003, 232463.13443072705, 284933.4705075446, 353921.2962962963], [228098.59396433475, 228234.5679012346, 229066.0150891633, 232853.2235939644, 241856.48148148152, 258336.07681755835, 284552.29766803846, 322765.4320987655, 375235.76817558304, 444223.59396433475], [351106.6529492456, 351242.62688614544, 352074.0740740741, 355861.2825788752, 364864.54046639235, 381344.1358024692, 407560.3566529493, 445773.49108367634, 498243.8271604939, 567231.6529492456], [511875.0, 512010.97393689986, 512842.4211248285, 516629.6296296296, 525632.8875171468, 542112.4828532236, 568328.7037037037, 606541.8381344307, 659012.1742112483, 728000.0]]}, {\"colorscale\": [[0.0, \"rgb(255,255,204)\"], [0.125, \"rgb(255,237,160)\"], [0.25, \"rgb(254,217,118)\"], [0.375, \"rgb(254,178,76)\"], [0.5, \"rgb(253,141,60)\"], [0.625, \"rgb(252,78,42)\"], [0.75, \"rgb(227,26,28)\"], [0.875, \"rgb(189,0,38)\"], [1.0, \"rgb(128,0,38)\"]], \"scene\": \"scene3\", \"showscale\": false, \"type\": \"surface\", \"x\": [-5.0, 4.444444444444445, 13.88888888888889, 23.333333333333336, 32.77777777777778, 42.22222222222222, 51.66666666666667, 61.111111111111114, 70.55555555555556, 80.0], \"y\": [-5.0, 2.2222222222222223, 9.444444444444445, 16.666666666666668, 23.88888888888889, 31.111111111111114, 38.333333333333336, 45.55555555555556, 52.77777777777778, 60.0], \"z\": [[-250.0, -114.02606310013718, 717.4211248285322, 4504.6296296296305, 13507.887517146777, 29987.482853223602, 56203.703703703715, 94416.83813443074, 146887.1742112483, 215875.0], [-37.20850480109738, 98.76543209876544, 930.2126200274349, 4717.421124828533, 13720.67901234568, 30200.274348422507, 56416.495198902616, 94629.62962962965, 147099.9657064472, 216087.7914951989], [2554.1838134430727, 2690.1577503429357, 3521.604938271605, 7308.813443072703, 16312.07133058985, 32791.66666666667, 59007.88751714679, 97221.02194787381, 149691.35802469135, 218679.18381344306], [12578.703703703708, 12714.677640603571, 13546.12482853224, 17333.33333333334, 26336.591220850485, 42816.18655692731, 69032.40740740742, 107245.54183813445, 159715.877914952, 228703.7037037037], [35090.87791495199, 35226.851851851854, 36058.299039780526, 39845.50754458162, 48848.765432098764, 65328.3607681756, 91544.5816186557, 129757.71604938273, 182228.0521262003, 251215.877914952], [75145.23319615911, 75281.20713305897, 76112.65432098764, 79899.86282578875, 88903.12071330589, 105382.71604938271, 131598.93689986283, 169812.07133058985, 222282.40740740742, 291270.2331961591], [137796.29629629632, 137932.27023319618, 138763.71742112486, 142550.92592592596, 151554.1838134431, 168033.77914951992, 194250.00000000003, 232463.13443072705, 284933.4705075446, 353921.2962962963], [228098.59396433475, 228234.5679012346, 229066.0150891633, 232853.2235939644, 241856.48148148152, 258336.07681755835, 284552.29766803846, 322765.4320987655, 375235.76817558304, 444223.59396433475], [351106.6529492456, 351242.62688614544, 352074.0740740741, 355861.2825788752, 364864.54046639235, 381344.1358024692, 407560.3566529493, 445773.49108367634, 498243.8271604939, 567231.6529492456], [511875.0, 512010.97393689986, 512842.4211248285, 516629.6296296296, 525632.8875171468, 542112.4828532236, 568328.7037037037, 606541.8381344307, 659012.1742112483, 728000.0]]}, {\"colorscale\": [[0.0, \"rgb(255,255,217)\"], [0.125, \"rgb(237,248,177)\"], [0.25, \"rgb(199,233,180)\"], [0.375, \"rgb(127,205,187)\"], [0.5, \"rgb(65,182,196)\"], [0.625, \"rgb(29,145,192)\"], [0.75, \"rgb(34,94,168)\"], [0.875, \"rgb(37,52,148)\"], [1.0, \"rgb(8,29,88)\"]], \"scene\": \"scene4\", \"showscale\": false, \"type\": \"surface\", \"x\": [-5.0, 4.444444444444445, 13.88888888888889, 23.333333333333336, 32.77777777777778, 42.22222222222222, 51.66666666666667, 61.111111111111114, 70.55555555555556, 80.0], \"y\": [-5.0, 2.2222222222222223, 9.444444444444445, 16.666666666666668, 23.88888888888889, 31.111111111111114, 38.333333333333336, 45.55555555555556, 52.77777777777778, 60.0], \"z\": [[-250.0, -114.02606310013718, 717.4211248285322, 4504.6296296296305, 13507.887517146777, 29987.482853223602, 56203.703703703715, 94416.83813443074, 146887.1742112483, 215875.0], [-37.20850480109738, 98.76543209876544, 930.2126200274349, 4717.421124828533, 13720.67901234568, 30200.274348422507, 56416.495198902616, 94629.62962962965, 147099.9657064472, 216087.7914951989], [2554.1838134430727, 2690.1577503429357, 3521.604938271605, 7308.813443072703, 16312.07133058985, 32791.66666666667, 59007.88751714679, 97221.02194787381, 149691.35802469135, 218679.18381344306], [12578.703703703708, 12714.677640603571, 13546.12482853224, 17333.33333333334, 26336.591220850485, 42816.18655692731, 69032.40740740742, 107245.54183813445, 159715.877914952, 228703.7037037037], [35090.87791495199, 35226.851851851854, 36058.299039780526, 39845.50754458162, 48848.765432098764, 65328.3607681756, 91544.5816186557, 129757.71604938273, 182228.0521262003, 251215.877914952], [75145.23319615911, 75281.20713305897, 76112.65432098764, 79899.86282578875, 88903.12071330589, 105382.71604938271, 131598.93689986283, 169812.07133058985, 222282.40740740742, 291270.2331961591], [137796.29629629632, 137932.27023319618, 138763.71742112486, 142550.92592592596, 151554.1838134431, 168033.77914951992, 194250.00000000003, 232463.13443072705, 284933.4705075446, 353921.2962962963], [228098.59396433475, 228234.5679012346, 229066.0150891633, 232853.2235939644, 241856.48148148152, 258336.07681755835, 284552.29766803846, 322765.4320987655, 375235.76817558304, 444223.59396433475], [351106.6529492456, 351242.62688614544, 352074.0740740741, 355861.2825788752, 364864.54046639235, 381344.1358024692, 407560.3566529493, 445773.49108367634, 498243.8271604939, 567231.6529492456], [511875.0, 512010.97393689986, 512842.4211248285, 516629.6296296296, 525632.8875171468, 542112.4828532236, 568328.7037037037, 606541.8381344307, 659012.1742112483, 728000.0]]}],                        {\"height\": 800, \"scene\": {\"domain\": {\"x\": [0.0, 0.45], \"y\": [0.575, 1.0]}}, \"scene2\": {\"domain\": {\"x\": [0.55, 1.0], \"y\": [0.575, 1.0]}}, \"scene3\": {\"domain\": {\"x\": [0.0, 0.45], \"y\": [0.0, 0.425]}}, \"scene4\": {\"domain\": {\"x\": [0.55, 1.0], \"y\": [0.0, 0.425]}}, \"template\": {\"data\": {\"bar\": [{\"error_x\": {\"color\": \"#2a3f5f\"}, \"error_y\": {\"color\": \"#2a3f5f\"}, \"marker\": {\"line\": {\"color\": \"#E5ECF6\", \"width\": 0.5}}, \"type\": \"bar\"}], \"barpolar\": [{\"marker\": {\"line\": {\"color\": \"#E5ECF6\", \"width\": 0.5}}, \"type\": \"barpolar\"}], \"carpet\": [{\"aaxis\": {\"endlinecolor\": \"#2a3f5f\", \"gridcolor\": \"white\", \"linecolor\": \"white\", \"minorgridcolor\": \"white\", \"startlinecolor\": \"#2a3f5f\"}, \"baxis\": {\"endlinecolor\": \"#2a3f5f\", \"gridcolor\": \"white\", \"linecolor\": \"white\", \"minorgridcolor\": \"white\", \"startlinecolor\": \"#2a3f5f\"}, \"type\": \"carpet\"}], \"choropleth\": [{\"colorbar\": {\"outlinewidth\": 0, \"ticks\": \"\"}, \"type\": \"choropleth\"}], \"contour\": [{\"colorbar\": {\"outlinewidth\": 0, \"ticks\": \"\"}, \"colorscale\": [[0.0, \"#0d0887\"], [0.1111111111111111, \"#46039f\"], [0.2222222222222222, \"#7201a8\"], [0.3333333333333333, \"#9c179e\"], [0.4444444444444444, \"#bd3786\"], [0.5555555555555556, \"#d8576b\"], [0.6666666666666666, \"#ed7953\"], [0.7777777777777778, \"#fb9f3a\"], [0.8888888888888888, \"#fdca26\"], [1.0, \"#f0f921\"]], \"type\": \"contour\"}], \"contourcarpet\": [{\"colorbar\": {\"outlinewidth\": 0, \"ticks\": \"\"}, \"type\": \"contourcarpet\"}], \"heatmap\": [{\"colorbar\": {\"outlinewidth\": 0, \"ticks\": \"\"}, \"colorscale\": [[0.0, \"#0d0887\"], [0.1111111111111111, \"#46039f\"], [0.2222222222222222, \"#7201a8\"], [0.3333333333333333, \"#9c179e\"], [0.4444444444444444, \"#bd3786\"], [0.5555555555555556, \"#d8576b\"], [0.6666666666666666, \"#ed7953\"], [0.7777777777777778, \"#fb9f3a\"], [0.8888888888888888, \"#fdca26\"], [1.0, \"#f0f921\"]], \"type\": \"heatmap\"}], \"heatmapgl\": [{\"colorbar\": {\"outlinewidth\": 0, \"ticks\": \"\"}, \"colorscale\": [[0.0, \"#0d0887\"], [0.1111111111111111, \"#46039f\"], [0.2222222222222222, \"#7201a8\"], [0.3333333333333333, \"#9c179e\"], [0.4444444444444444, \"#bd3786\"], [0.5555555555555556, \"#d8576b\"], [0.6666666666666666, \"#ed7953\"], [0.7777777777777778, \"#fb9f3a\"], [0.8888888888888888, \"#fdca26\"], [1.0, \"#f0f921\"]], \"type\": \"heatmapgl\"}], \"histogram\": [{\"marker\": {\"colorbar\": {\"outlinewidth\": 0, \"ticks\": \"\"}}, \"type\": \"histogram\"}], \"histogram2d\": [{\"colorbar\": {\"outlinewidth\": 0, \"ticks\": \"\"}, \"colorscale\": [[0.0, \"#0d0887\"], [0.1111111111111111, \"#46039f\"], [0.2222222222222222, \"#7201a8\"], [0.3333333333333333, \"#9c179e\"], [0.4444444444444444, \"#bd3786\"], [0.5555555555555556, \"#d8576b\"], [0.6666666666666666, \"#ed7953\"], [0.7777777777777778, \"#fb9f3a\"], [0.8888888888888888, \"#fdca26\"], [1.0, \"#f0f921\"]], \"type\": \"histogram2d\"}], \"histogram2dcontour\": [{\"colorbar\": {\"outlinewidth\": 0, \"ticks\": \"\"}, \"colorscale\": [[0.0, \"#0d0887\"], [0.1111111111111111, \"#46039f\"], [0.2222222222222222, \"#7201a8\"], [0.3333333333333333, \"#9c179e\"], [0.4444444444444444, \"#bd3786\"], [0.5555555555555556, \"#d8576b\"], [0.6666666666666666, \"#ed7953\"], [0.7777777777777778, \"#fb9f3a\"], [0.8888888888888888, \"#fdca26\"], [1.0, \"#f0f921\"]], \"type\": \"histogram2dcontour\"}], \"mesh3d\": [{\"colorbar\": {\"outlinewidth\": 0, \"ticks\": \"\"}, \"type\": \"mesh3d\"}], \"parcoords\": [{\"line\": {\"colorbar\": {\"outlinewidth\": 0, \"ticks\": \"\"}}, \"type\": \"parcoords\"}], \"pie\": [{\"automargin\": true, \"type\": \"pie\"}], \"scatter\": [{\"marker\": {\"colorbar\": {\"outlinewidth\": 0, \"ticks\": \"\"}}, \"type\": \"scatter\"}], \"scatter3d\": [{\"line\": {\"colorbar\": {\"outlinewidth\": 0, \"ticks\": \"\"}}, \"marker\": {\"colorbar\": {\"outlinewidth\": 0, \"ticks\": \"\"}}, \"type\": \"scatter3d\"}], \"scattercarpet\": [{\"marker\": {\"colorbar\": {\"outlinewidth\": 0, \"ticks\": \"\"}}, \"type\": \"scattercarpet\"}], \"scattergeo\": [{\"marker\": {\"colorbar\": {\"outlinewidth\": 0, \"ticks\": \"\"}}, \"type\": \"scattergeo\"}], \"scattergl\": [{\"marker\": {\"colorbar\": {\"outlinewidth\": 0, \"ticks\": \"\"}}, \"type\": \"scattergl\"}], \"scattermapbox\": [{\"marker\": {\"colorbar\": {\"outlinewidth\": 0, \"ticks\": \"\"}}, \"type\": \"scattermapbox\"}], \"scatterpolar\": [{\"marker\": {\"colorbar\": {\"outlinewidth\": 0, \"ticks\": \"\"}}, \"type\": \"scatterpolar\"}], \"scatterpolargl\": [{\"marker\": {\"colorbar\": {\"outlinewidth\": 0, \"ticks\": \"\"}}, \"type\": \"scatterpolargl\"}], \"scatterternary\": [{\"marker\": {\"colorbar\": {\"outlinewidth\": 0, \"ticks\": \"\"}}, \"type\": \"scatterternary\"}], \"surface\": [{\"colorbar\": {\"outlinewidth\": 0, \"ticks\": \"\"}, \"colorscale\": [[0.0, \"#0d0887\"], [0.1111111111111111, \"#46039f\"], [0.2222222222222222, \"#7201a8\"], [0.3333333333333333, \"#9c179e\"], [0.4444444444444444, \"#bd3786\"], [0.5555555555555556, \"#d8576b\"], [0.6666666666666666, \"#ed7953\"], [0.7777777777777778, \"#fb9f3a\"], [0.8888888888888888, \"#fdca26\"], [1.0, \"#f0f921\"]], \"type\": \"surface\"}], \"table\": [{\"cells\": {\"fill\": {\"color\": \"#EBF0F8\"}, \"line\": {\"color\": \"white\"}}, \"header\": {\"fill\": {\"color\": \"#C8D4E3\"}, \"line\": {\"color\": \"white\"}}, \"type\": \"table\"}]}, \"layout\": {\"annotationdefaults\": {\"arrowcolor\": \"#2a3f5f\", \"arrowhead\": 0, \"arrowwidth\": 1}, \"autotypenumbers\": \"strict\", \"coloraxis\": {\"colorbar\": {\"outlinewidth\": 0, \"ticks\": \"\"}}, \"colorscale\": {\"diverging\": [[0, \"#8e0152\"], [0.1, \"#c51b7d\"], [0.2, \"#de77ae\"], [0.3, \"#f1b6da\"], [0.4, \"#fde0ef\"], [0.5, \"#f7f7f7\"], [0.6, \"#e6f5d0\"], [0.7, \"#b8e186\"], [0.8, \"#7fbc41\"], [0.9, \"#4d9221\"], [1, \"#276419\"]], \"sequential\": [[0.0, \"#0d0887\"], [0.1111111111111111, \"#46039f\"], [0.2222222222222222, \"#7201a8\"], [0.3333333333333333, \"#9c179e\"], [0.4444444444444444, \"#bd3786\"], [0.5555555555555556, \"#d8576b\"], [0.6666666666666666, \"#ed7953\"], [0.7777777777777778, \"#fb9f3a\"], [0.8888888888888888, \"#fdca26\"], [1.0, \"#f0f921\"]], \"sequentialminus\": [[0.0, \"#0d0887\"], [0.1111111111111111, \"#46039f\"], [0.2222222222222222, \"#7201a8\"], [0.3333333333333333, \"#9c179e\"], [0.4444444444444444, \"#bd3786\"], [0.5555555555555556, \"#d8576b\"], [0.6666666666666666, \"#ed7953\"], [0.7777777777777778, \"#fb9f3a\"], [0.8888888888888888, \"#fdca26\"], [1.0, \"#f0f921\"]]}, \"colorway\": [\"#636efa\", \"#EF553B\", \"#00cc96\", \"#ab63fa\", \"#FFA15A\", \"#19d3f3\", \"#FF6692\", \"#B6E880\", \"#FF97FF\", \"#FECB52\"], \"font\": {\"color\": \"#2a3f5f\"}, \"geo\": {\"bgcolor\": \"white\", \"lakecolor\": \"white\", \"landcolor\": \"#E5ECF6\", \"showlakes\": true, \"showland\": true, \"subunitcolor\": \"white\"}, \"hoverlabel\": {\"align\": \"left\"}, \"hovermode\": \"closest\", \"mapbox\": {\"style\": \"light\"}, \"paper_bgcolor\": \"white\", \"plot_bgcolor\": \"#E5ECF6\", \"polar\": {\"angularaxis\": {\"gridcolor\": \"white\", \"linecolor\": \"white\", \"ticks\": \"\"}, \"bgcolor\": \"#E5ECF6\", \"radialaxis\": {\"gridcolor\": \"white\", \"linecolor\": \"white\", \"ticks\": \"\"}}, \"scene\": {\"xaxis\": {\"backgroundcolor\": \"#E5ECF6\", \"gridcolor\": \"white\", \"gridwidth\": 2, \"linecolor\": \"white\", \"showbackground\": true, \"ticks\": \"\", \"zerolinecolor\": \"white\"}, \"yaxis\": {\"backgroundcolor\": \"#E5ECF6\", \"gridcolor\": \"white\", \"gridwidth\": 2, \"linecolor\": \"white\", \"showbackground\": true, \"ticks\": \"\", \"zerolinecolor\": \"white\"}, \"zaxis\": {\"backgroundcolor\": \"#E5ECF6\", \"gridcolor\": \"white\", \"gridwidth\": 2, \"linecolor\": \"white\", \"showbackground\": true, \"ticks\": \"\", \"zerolinecolor\": \"white\"}}, \"shapedefaults\": {\"line\": {\"color\": \"#2a3f5f\"}}, \"ternary\": {\"aaxis\": {\"gridcolor\": \"white\", \"linecolor\": \"white\", \"ticks\": \"\"}, \"baxis\": {\"gridcolor\": \"white\", \"linecolor\": \"white\", \"ticks\": \"\"}, \"bgcolor\": \"#E5ECF6\", \"caxis\": {\"gridcolor\": \"white\", \"linecolor\": \"white\", \"ticks\": \"\"}}, \"title\": {\"x\": 0.05}, \"xaxis\": {\"automargin\": true, \"gridcolor\": \"white\", \"linecolor\": \"white\", \"ticks\": \"\", \"title\": {\"standoff\": 15}, \"zerolinecolor\": \"white\", \"zerolinewidth\": 2}, \"yaxis\": {\"automargin\": true, \"gridcolor\": \"white\", \"linecolor\": \"white\", \"ticks\": \"\", \"title\": {\"standoff\": 15}, \"zerolinecolor\": \"white\", \"zerolinewidth\": 2}}}, \"title\": {\"text\": \"3D subplots with different colorscales\"}, \"width\": 800},                        {\"responsive\": true}                    ).then(function(){\n",
       "                            \n",
       "var gd = document.getElementById('47160a00-20d8-4ff2-b703-a23bd2683653');\n",
       "var x = new MutationObserver(function (mutations, observer) {{\n",
       "        var display = window.getComputedStyle(gd).display;\n",
       "        if (!display || display === 'none') {{\n",
       "            console.log([gd, 'removed!']);\n",
       "            Plotly.purge(gd);\n",
       "            observer.disconnect();\n",
       "        }}\n",
       "}});\n",
       "\n",
       "// Listen for the removal of the full notebook cells\n",
       "var notebookContainer = gd.closest('#notebook-container');\n",
       "if (notebookContainer) {{\n",
       "    x.observe(notebookContainer, {childList: true});\n",
       "}}\n",
       "\n",
       "// Listen for the clearing of the current output cell\n",
       "var outputEl = gd.closest('.output');\n",
       "if (outputEl) {{\n",
       "    x.observe(outputEl, {childList: true});\n",
       "}}\n",
       "\n",
       "                        })                };                });            </script>        </div>"
      ]
     },
     "metadata": {},
     "output_type": "display_data"
    }
   ],
   "source": [
    "import plotly.graph_objects as go\n",
    "from plotly.subplots import make_subplots\n",
    "\n",
    "import numpy as np\n",
    "\n",
    "# Initialize figure with 4 3D subplots\n",
    "fig = make_subplots(\n",
    "    rows=2, cols=2,\n",
    "    specs=[[{'type': 'surface'}, {'type': 'surface'}],\n",
    "           [{'type': 'surface'}, {'type': 'surface'}]])\n",
    "\n",
    "# Generate data\n",
    "x = np.linspace(-5, 80, 10)\n",
    "y = np.linspace(-5, 60, 10)\n",
    "xGrid, yGrid = np.meshgrid(y, x)\n",
    "z = xGrid ** 3 + yGrid ** 3\n",
    "\n",
    "# adding surfaces to subplots.\n",
    "fig.add_trace(\n",
    "    go.Surface(x=x, y=y, z=z, colorscale='Viridis', showscale=False),\n",
    "    row=1, col=1)\n",
    "\n",
    "fig.add_trace(\n",
    "    go.Surface(x=x, y=y, z=z, colorscale='RdBu', showscale=False),\n",
    "    row=1, col=2)\n",
    "\n",
    "fig.add_trace(\n",
    "    go.Surface(x=x, y=y, z=z, colorscale='YlOrRd', showscale=False),\n",
    "    row=2, col=1)\n",
    "\n",
    "fig.add_trace(\n",
    "    go.Surface(x=x, y=y, z=z, colorscale='YlGnBu', showscale=False),\n",
    "    row=2, col=2)\n",
    "\n",
    "fig.update_layout(\n",
    "    title_text='3D subplots with different colorscales',\n",
    "    height=800,\n",
    "    width=800\n",
    ")\n",
    "\n",
    "fig.show()"
   ]
  },
  {
   "cell_type": "code",
   "execution_count": 2,
   "metadata": {},
   "outputs": [
    {
     "data": {
      "text/plain": [
       "Text(0.5, 1.0, 'Autochip Move final angles for robot 0')"
      ]
     },
     "execution_count": 2,
     "metadata": {},
     "output_type": "execute_result"
    },
    {
     "data": {
      "text/plain": [
       "<Figure size 1440x360 with 0 Axes>"
      ]
     },
     "metadata": {},
     "output_type": "display_data"
    },
    {
     "data": {
      "image/png": "[encoded data removed]",
      "text/plain": [
       "<Figure size 720x360 with 1 Axes>"
      ]
     },
     "metadata": {
      "needs_background": "light"
     },
     "output_type": "display_data"
    }
   ],
   "source": [
    "# Create a ProtoLog from the chunked Protobuf message files in the directory,\n",
    "# with contained message type PrimitiveSet\n",
    "primitive_set_proto_log = ProtoLog('/tmp/vision/PrimitiveSet/', PrimitiveSet)\n",
    "\n",
    "# create a list of primitives for robot 0 from the primitive sets\n",
    "robot_0_primitives = [primitive_set.robot_primitives[0] for primitive_set in primitive_set_proto_log]\n",
    "plt.figure(figsize=(20, 5))\n",
    "\n",
    "# build a list of autochip move final angles and their corresponding timestamps from the list of robot 0 primitives\n",
    "final_angles = []\n",
    "timestamps = []\n",
    "for idx, prim in enumerate(robot_0_primitives):\n",
    "    if prim.HasField(\"autochip_move\"):\n",
    "        final_angles.append(prim.autochip_move.final_angle.radians)\n",
    "        timestamps.append(primitive_set_proto_log[idx].time_sent.epoch_timestamp_seconds)\n",
    "\n",
    "# plot the result\n",
    "plt.figure(figsize=(10, 5))\n",
    "plt.scatter(timestamps, final_angles)\n",
    "plt.title(\"Autochip Move final angles for robot 0\")"
   ]
  },
  {
   "cell_type": "code",
   "execution_count": 5,
   "metadata": {},
   "outputs": [],
   "source": [
    "primitive_set_proto_log = ProtoLog('/tmp/vision/Vision', Vision)"
   ]
  },
  {
   "cell_type": "code",
   "execution_count": 11,
   "metadata": {},
   "outputs": [
    {
     "name": "stdout",
     "output_type": "stream",
     "text": [
      "epoch_timestamp_seconds: 1610232921.683559\n",
      "\n"
     ]
    }
   ],
   "source": [
    "print(primitive_set_proto_log[100].time_sent)\n"
   ]
  },
  {
   "cell_type": "code",
   "execution_count": 23,
   "metadata": {},
   "outputs": [
    {
     "data": {
      "text/plain": [
       "Text(0.5, 1.0, 'Ball x vs. time')"
      ]
     },
     "execution_count": 23,
     "metadata": {},
     "output_type": "execute_result"
    },
    {
     "data": {
      "image/png": "[encoded data removed]",
      "text/plain": [
       "<Figure size 720x360 with 1 Axes>"
      ]
     },
     "metadata": {
      "needs_background": "light"
     },
     "output_type": "display_data"
    }
   ],
   "source": [
    "plt.figure(figsize=(10, 5))\n",
    "plt.scatter(ball_timestamps, ball_xs)\n",
    "plt.title(\"Ball x vs. time\")"
   ]
  },
  {
   "cell_type": "code",
   "execution_count": null,
   "metadata": {},
   "outputs": [],
   "source": []
  }
 ],
 "metadata": {
  "kernelspec": {
   "display_name": "Python 3",
   "language": "python",
   "name": "python3"
  },
  "language_info": {
   "codemirror_mode": {
    "name": "ipython",
    "version": 3
   },
   "file_extension": ".py",
   "mimetype": "text/x-python",
   "name": "python",
   "nbconvert_exporter": "python",
   "pygments_lexer": "ipython3",
   "version": "3.8.0"
  }
 },
 "nbformat": 4,
 "nbformat_minor": 4
}
