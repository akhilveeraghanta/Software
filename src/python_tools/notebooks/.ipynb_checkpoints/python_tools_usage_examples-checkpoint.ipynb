{
 "cells": [
  {
   "cell_type": "markdown",
   "metadata": {},
   "source": [
    "# Python Tools Usage Examples"
   ]
  },
  {
   "cell_type": "code",
   "execution_count": 1,
   "metadata": {},
   "outputs": [],
   "source": [
    "from software.proto.sensor_msg_pb2 import SensorProto\n",
    "import numpy as np\n",
    "import matplotlib.pyplot as plt\n",
    "import os\n",
    "from python_tools.proto_log import ProtoLog\n",
    "from python_tools.sensor_proto_log import SensorProtoLog\n",
    "from shared.proto.tbots_software_msgs_pb2 import PrimitiveSet, Vision"
   ]
  },
  {
   "cell_type": "code",
   "execution_count": 4,
   "metadata": {},
   "outputs": [
    {
     "data": {
      "text/plain": [
       "Text(0.5, 1.0, 'Autochip Move final angles for robot 0')"
      ]
     },
     "execution_count": 4,
     "metadata": {},
     "output_type": "execute_result"
    },
    {
     "data": {
      "text/plain": [
       "<Figure size 1440x360 with 0 Axes>"
      ]
     },
     "metadata": {},
     "output_type": "display_data"
    },
    {
     "data": {
      "image/png": "[encoded data removed]",
      "text/plain": [
       "<Figure size 720x360 with 1 Axes>"
      ]
     },
     "metadata": {
      "needs_background": "light"
     },
     "output_type": "display_data"
    }
   ],
   "source": [
    "# Create a ProtoLog from the chunked Protobuf message files in the directory,\n",
    "# with contained message type PrimitiveSet\n",
    "primitive_set_proto_log = ProtoLog('/tmp/vision/PrimitiveSet/', PrimitiveSet)\n",
    "\n",
    "# create a list of primitives for robot 0 from the primitive sets\n",
    "robot_0_primitives = [primitive_set.robot_primitives[0] for primitive_set in primitive_set_proto_log]\n",
    "plt.figure(figsize=(20, 5))\n",
    "\n",
    "# build a list of autochip move final angles and their corresponding timestamps from the list of robot 0 primitives\n",
    "final_angles = []\n",
    "timestamps = []\n",
    "for idx, prim in enumerate(robot_0_primitives):\n",
    "    if prim.HasField(\"autochip_move\"):\n",
    "        final_angles.append(prim.autochip_move.final_angle.radians)\n",
    "        timestamps.append(primitive_set_proto_log[idx].time_sent.epoch_timestamp_seconds)\n",
    "\n",
    "# plot the result\n",
    "plt.figure(figsize=(10, 5))\n",
    "plt.scatter(timestamps, final_angles)\n",
    "plt.title(\"Autochip Move final angles for robot 0\")"
   ]
  },
  {
   "cell_type": "code",
   "execution_count": 5,
   "metadata": {},
   "outputs": [],
   "source": [
    "primitive_set_proto_log = ProtoLog('/tmp/vision/Vision', Vision)"
   ]
  },
  {
   "cell_type": "code",
   "execution_count": 7,
   "metadata": {},
   "outputs": [
    {
     "name": "stdout",
     "output_type": "stream",
     "text": [
      "time_sent {\n",
      "  epoch_timestamp_seconds: 1610232920.05481\n",
      "}\n",
      "ball_state {\n",
      "  global_position {\n",
      "  }\n",
      "  global_velocity {\n",
      "  }\n",
      "}\n",
      "\n"
     ]
    },
    {
     "ename": "NameError",
     "evalue": "name 'sensor_proto_log' is not defined",
     "output_type": "error",
     "traceback": [
      "\u001b[0;31m---------------------------------------------------------------------------\u001b[0m",
      "\u001b[0;31mNameError\u001b[0m                                 Traceback (most recent call last)",
      "\u001b[0;32m<ipython-input-7-4b162f1559a0>\u001b[0m in \u001b[0;36m<module>\u001b[0;34m\u001b[0m\n\u001b[1;32m      1\u001b[0m \u001b[0mprint\u001b[0m\u001b[0;34m(\u001b[0m\u001b[0mprimitive_set_proto_log\u001b[0m\u001b[0;34m[\u001b[0m\u001b[0;36m0\u001b[0m\u001b[0;34m]\u001b[0m\u001b[0;34m)\u001b[0m\u001b[0;34m\u001b[0m\u001b[0;34m\u001b[0m\u001b[0m\n\u001b[1;32m      2\u001b[0m \u001b[0;34m\u001b[0m\u001b[0m\n\u001b[0;32m----> 3\u001b[0;31m \u001b[0;32mfor\u001b[0m \u001b[0midx\u001b[0m\u001b[0;34m,\u001b[0m \u001b[0mvision\u001b[0m \u001b[0;32min\u001b[0m \u001b[0menumerate\u001b[0m\u001b[0;34m(\u001b[0m\u001b[0msensor_proto_log\u001b[0m\u001b[0;34m.\u001b[0m\u001b[0mssl_vision_msg\u001b[0m\u001b[0;34m)\u001b[0m\u001b[0;34m:\u001b[0m\u001b[0;34m\u001b[0m\u001b[0;34m\u001b[0m\u001b[0m\n\u001b[0m\u001b[1;32m      4\u001b[0m     \u001b[0;32mif\u001b[0m \u001b[0mvision\u001b[0m\u001b[0;34m.\u001b[0m\u001b[0mHasField\u001b[0m\u001b[0;34m(\u001b[0m\u001b[0;34m\"detection\"\u001b[0m\u001b[0;34m)\u001b[0m \u001b[0;32mand\u001b[0m \u001b[0mlen\u001b[0m\u001b[0;34m(\u001b[0m\u001b[0mvision\u001b[0m\u001b[0;34m.\u001b[0m\u001b[0mdetection\u001b[0m\u001b[0;34m.\u001b[0m\u001b[0mballs\u001b[0m\u001b[0;34m)\u001b[0m \u001b[0;34m>\u001b[0m \u001b[0;36m0\u001b[0m\u001b[0;34m:\u001b[0m\u001b[0;34m\u001b[0m\u001b[0;34m\u001b[0m\u001b[0m\n\u001b[1;32m      5\u001b[0m         \u001b[0;31m# put the x and y of each ball detection into `ball_xs` and `ball_ys`\u001b[0m\u001b[0;34m\u001b[0m\u001b[0;34m\u001b[0m\u001b[0;34m\u001b[0m\u001b[0m\n",
      "\u001b[0;31mNameError\u001b[0m: name 'sensor_proto_log' is not defined"
     ]
    }
   ],
   "source": [
    "print(primitive_set_proto_log[0])\n",
    "\n",
    "for idx, vision in enumerate(sensor_proto_log.ssl_vision_msg): \n",
    "    if vision.HasField(\"detection\") and len(vision.detection.balls) > 0:\n",
    "        # put the x and y of each ball detection into `ball_xs` and `ball_ys`\n",
    "        ball_xs.extend([ball.x for ball in vision.detection.balls])\n",
    "        ball_ys.extend([ball.y for ball in vision.detection.balls])\n",
    "        # put the timestamp corresponding to these detections into ball_timestamps\n",
    "        # the timestamps field is automatically generated for each child field of SensorMsg\n",
    "        # in SensorProtoLog\n",
    "        ball_timestamps.extend([sensor_proto_log.ssl_vision_msg_timestamp[idx] \n",
    "                                for ball in vision.detection.balls])\n",
    "        \n",
    "plt.figure(figsize=(10, 5))\n",
    "plt.scatter(ball_xs, ball_ys)\n",
    "plt.title(\"Ball positions\")"
   ]
  },
  {
   "cell_type": "code",
   "execution_count": 23,
   "metadata": {},
   "outputs": [
    {
     "data": {
      "text/plain": [
       "Text(0.5, 1.0, 'Ball x vs. time')"
      ]
     },
     "execution_count": 23,
     "metadata": {},
     "output_type": "execute_result"
    },
    {
     "data": {
      "image/png": "[encoded data removed]",
      "text/plain": [
       "<Figure size 720x360 with 1 Axes>"
      ]
     },
     "metadata": {
      "needs_background": "light"
     },
     "output_type": "display_data"
    }
   ],
   "source": [
    "plt.figure(figsize=(10, 5))\n",
    "plt.scatter(ball_timestamps, ball_xs)\n",
    "plt.title(\"Ball x vs. time\")"
   ]
  },
  {
   "cell_type": "code",
   "execution_count": null,
   "metadata": {},
   "outputs": [],
   "source": []
  }
 ],
 "metadata": {
  "kernelspec": {
   "display_name": "Python 3",
   "language": "python",
   "name": "python3"
  },
  "language_info": {
   "codemirror_mode": {
    "name": "ipython",
    "version": 3
   },
   "file_extension": ".py",
   "mimetype": "text/x-python",
   "name": "python",
   "nbconvert_exporter": "python",
   "pygments_lexer": "ipython3",
   "version": "3.7.9"
  }
 },
 "nbformat": 4,
 "nbformat_minor": 4
}
